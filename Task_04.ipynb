{
 "cells": [
  {
   "cell_type": "code",
   "execution_count": 1,
   "metadata": {},
   "outputs": [
    {
     "name": "stderr",
     "output_type": "stream",
     "text": [
      "/opt/conda/lib/python3.7/site-packages/qiskit/providers/ibmq/ibmqfactory.py:192: UserWarning: Timestamps in IBMQ backend properties, jobs, and job results are all now in local time instead of UTC.\n",
      "  warnings.warn('Timestamps in IBMQ backend properties, jobs, and job results '\n"
     ]
    }
   ],
   "source": [
    "%matplotlib inline\n",
    "# Importing standard Qiskit libraries and configuring account\n",
    "from qiskit import QuantumCircuit, execute, Aer, IBMQ\n",
    "from qiskit.compiler import transpile, assemble\n",
    "from qiskit.tools.jupyter import *\n",
    "from qiskit.visualization import *\n",
    "# Loading your IBM Q account(s)\n",
    "provider = IBMQ.load_account()"
   ]
  },
  {
   "cell_type": "code",
   "execution_count": 2,
   "metadata": {},
   "outputs": [],
   "source": [
    "from qiskit import QuantumRegister, ClassicalRegister"
   ]
  },
  {
   "cell_type": "code",
   "execution_count": 3,
   "metadata": {},
   "outputs": [],
   "source": [
    "import numpy as np\n",
    "import pandas as pd"
   ]
  },
  {
   "cell_type": "code",
   "execution_count": 4,
   "metadata": {},
   "outputs": [],
   "source": [
    "import matplotlib.pyplot as plt"
   ]
  },
  {
   "cell_type": "code",
   "execution_count": 5,
   "metadata": {},
   "outputs": [
    {
     "data": {
      "text/plain": [
       "matrix([[ 1,  0,  0,  0],\n",
       "        [ 0,  0, -1,  0],\n",
       "        [ 0, -1,  0,  0],\n",
       "        [ 0,  0,  0,  1]])"
      ]
     },
     "execution_count": 5,
     "metadata": {},
     "output_type": "execute_result"
    }
   ],
   "source": [
    "# Hamiltonian\n",
    "H = np.mat(\"1 0 0 0; 0 0 -1 0; 0 -1 0 0; 0 0 0 1\")\n",
    "H"
   ]
  },
  {
   "cell_type": "code",
   "execution_count": 6,
   "metadata": {},
   "outputs": [],
   "source": [
    "# Pauli matrices\n",
    "mat_pauli_x = np.mat(\"0 1; 1 0\")\n",
    "mat_pauli_y = np.mat(\"0 -1j; 1j, 0\")\n",
    "mat_pauli_z = np.mat(\"1 0; 0 -1\")\n",
    "# Identity matrix\n",
    "mat_id = np.mat(\"1 0; 0 1\")"
   ]
  },
  {
   "cell_type": "code",
   "execution_count": 7,
   "metadata": {},
   "outputs": [],
   "source": [
    "# I⊗I\n",
    "s_ii = np.kron(mat_id, mat_id)\n",
    "# X⊗X\n",
    "s_xx = np.kron(mat_pauli_x, mat_pauli_x)\n",
    "# Y⊗Y\n",
    "s_yy = np.real(np.kron(mat_pauli_y, mat_pauli_y))\n",
    "# Z⊗Z\n",
    "s_zz = np.kron(mat_pauli_z, mat_pauli_z)"
   ]
  },
  {
   "cell_type": "code",
   "execution_count": 8,
   "metadata": {},
   "outputs": [],
   "source": [
    "# Getting the coefficients of the Pauli matrices\n",
    "s_alpha = np.dot(s_ii.conjugate().transpose(), H).trace() / 4\n",
    "s_beta = np.dot(s_xx.conjugate().transpose(), H).trace() / 4\n",
    "s_gamma = np.dot(s_yy.conjugate().transpose(), H).trace() / 4\n",
    "s_delta = np.dot(s_zz.conjugate().transpose(), H).trace() / 4"
   ]
  },
  {
   "cell_type": "code",
   "execution_count": 9,
   "metadata": {},
   "outputs": [
    {
     "data": {
      "text/plain": [
       "matrix([[ 1.,  0.,  0.,  0.],\n",
       "        [ 0.,  0., -1.,  0.],\n",
       "        [ 0., -1.,  0.,  0.],\n",
       "        [ 0.,  0.,  0.,  1.]])"
      ]
     },
     "execution_count": 9,
     "metadata": {},
     "output_type": "execute_result"
    }
   ],
   "source": [
    "H_p = (\n",
    "    s_alpha.A1[0] * s_ii\n",
    "    + s_beta.A1[0] * s_xx\n",
    "    + s_gamma.A1[0] * s_yy\n",
    "    + s_delta.A1[0] * s_zz\n",
    ")\n",
    "H_p"
   ]
  },
  {
   "cell_type": "code",
   "execution_count": 10,
   "metadata": {},
   "outputs": [
    {
     "data": {
      "text/plain": [
       "{'II': 0.5, 'XX': -0.5, 'YY': -0.5, 'ZZ': 0.5}"
      ]
     },
     "execution_count": 10,
     "metadata": {},
     "output_type": "execute_result"
    }
   ],
   "source": [
    "# Coefficients of the Hamiltonian expressed in Pauli terms\n",
    "lst_h_coef = dict(II= s_alpha.A1[0], XX= s_beta.A1[0], YY= s_gamma.A1[0], ZZ=s_delta.A1[0])\n",
    "# lst_h_coef = [s_alpha.A1[0], s_beta.A1[0], s_gamma.A1[0], s_delta.A1[0]]\n",
    "lst_h_coef"
   ]
  },
  {
   "cell_type": "code",
   "execution_count": 11,
   "metadata": {},
   "outputs": [],
   "source": [
    "# Define variational parameter for RX\n",
    "lst_angles = list(np.linspace(0, 2 * np.pi, 360))"
   ]
  },
  {
   "cell_type": "code",
   "execution_count": 12,
   "metadata": {},
   "outputs": [],
   "source": [
    "## Registers\n",
    "reg_Quantum = QuantumRegister(2)\n",
    "reg_Classic = ClassicalRegister(2)"
   ]
  },
  {
   "cell_type": "code",
   "execution_count": 13,
   "metadata": {},
   "outputs": [],
   "source": [
    "# Define simulator\n",
    "simulator = Aer.get_backend(\"statevector_simulator\")\n",
    "# Number of shots\n",
    "int_shots = 1024"
   ]
  },
  {
   "cell_type": "code",
   "execution_count": 14,
   "metadata": {},
   "outputs": [],
   "source": [
    "def f_create_circuits(\n",
    "    arg_angle, arg_QuantRegs=reg_Quantum, arg_ClassRegs=reg_Classic, arg_ncircuits=3\n",
    "):\n",
    "    # List of circuits\n",
    "    lst_circuits = [\n",
    "        QuantumCircuit(arg_QuantRegs, arg_ClassRegs) for _ in range(arg_ncircuits)\n",
    "    ]\n",
    "    \n",
    "    # Set register\n",
    "    lst_regs = [x.qregs[0] for x in lst_circuits]\n",
    "    # Defining circuits\n",
    "    # XX, YY, ZZ\n",
    "    [lst_circuits[i].rx(arg_angle, j[0]) for i,j in zip(range(arg_ncircuits), lst_regs)]\n",
    "    [lst_circuits[i].rx(arg_angle, j[1]) for i,j in zip(range(arg_ncircuits), lst_regs)]\n",
    "    \n",
    "    # XX\n",
    "    lst_circuits[0].u2(0, np.pi, reg_Quantum[0])\n",
    "    lst_circuits[0].measure(arg_QuantRegs[0], arg_ClassRegs[0])\n",
    "    lst_circuits[0].u2(0, np.pi, reg_Quantum[1])\n",
    "    lst_circuits[0].measure(arg_QuantRegs[1], arg_ClassRegs[1])\n",
    "    # YY\n",
    "    lst_circuits[1].u2(0, np.pi/2, reg_Quantum[0])\n",
    "    lst_circuits[1].measure(arg_QuantRegs[0], arg_ClassRegs[0])\n",
    "    lst_circuits[1].u2(0, np.pi/2, reg_Quantum[1])\n",
    "    lst_circuits[1].measure(arg_QuantRegs[1], arg_ClassRegs[0])\n",
    "    \n",
    "    # Measure ZZ\n",
    "    lst_circuits[2].measure(arg_QuantRegs[0], arg_ClassRegs[0])\n",
    "    lst_circuits[2].measure(arg_QuantRegs[1], arg_ClassRegs[1])\n",
    "\n",
    "    # Return\n",
    "    return lst_circuits"
   ]
  },
  {
   "cell_type": "code",
   "execution_count": 15,
   "metadata": {},
   "outputs": [],
   "source": [
    "def f_circuit_counts(arg_lst_ckts, arg_backend=simulator, arg_shots=int_shots):\n",
    "    #\n",
    "    lst_jobs = [execute(x, backend=arg_backend, shots=arg_shots) for x in arg_lst_ckts]\n",
    "    #\n",
    "    lst_results = [x.result() for x in lst_jobs]\n",
    "    #\n",
    "    lst_counts = [x.get_counts() for x in lst_results]\n",
    "    #\n",
    "    lst_eval = [sum([-val if key in [\"01\", \"10\"] else val for key,val in x.items()]) for x in lst_counts]\n",
    "    #\n",
    "    return lst_eval"
   ]
  },
  {
   "cell_type": "code",
   "execution_count": 16,
   "metadata": {},
   "outputs": [],
   "source": [
    "def f_expH(arg_lst_counts, arg_lst_coef=lst_h_coef):\n",
    "    # II\n",
    "    arg_lst_counts.insert(0, 1)\n",
    "    #\n",
    "    lst_exp = [x*y for x,y in zip(arg_lst_counts, arg_lst_coef.values())]\n",
    "    #\n",
    "    return sum(lst_exp)"
   ]
  },
  {
   "cell_type": "code",
   "execution_count": 17,
   "metadata": {},
   "outputs": [],
   "source": [
    "#\n",
    "lst_exp_H = []\n",
    "#\n",
    "for angle in lst_angles:\n",
    "    #\n",
    "    lst_ckts = f_create_circuits(angle)\n",
    "    #\n",
    "    lst_exp_H.append([angle, f_expH(f_circuit_counts(lst_ckts))])"
   ]
  },
  {
   "cell_type": "code",
   "execution_count": 18,
   "metadata": {},
   "outputs": [],
   "source": [
    "df_meas=pd.DataFrame(lst_exp_H, columns=[\"angle\", \"E_x\"])"
   ]
  },
  {
   "cell_type": "code",
   "execution_count": 19,
   "metadata": {},
   "outputs": [
    {
     "name": "stdout",
     "output_type": "stream",
     "text": [
      "The lowest eigenvalue is -1.0\n"
     ]
    }
   ],
   "source": [
    "print(\"The lowest eigenvalue is {}\".format(min(df_meas[\"E_x\"]))) "
   ]
  },
  {
   "cell_type": "code",
   "execution_count": 20,
   "metadata": {},
   "outputs": [],
   "source": [
    "df_meas.sort_values(by=[\"angle\"], inplace=True)"
   ]
  },
  {
   "cell_type": "code",
   "execution_count": 21,
   "metadata": {},
   "outputs": [
    {
     "data": {
      "image/png": "[encoded data removed]",
      "text/plain": [
       "<Figure size 432x288 with 1 Axes>"
      ]
     },
     "metadata": {
      "needs_background": "light"
     },
     "output_type": "display_data"
    }
   ],
   "source": [
    "plt.xlabel(\"Parameter value\")\n",
    "plt.ylabel(\"Expected value\")\n",
    "plt.plot(df_meas[\"angle\"], df_meas[\"E_x\"])\n",
    "plt.show()"
   ]
  }
 ],
 "metadata": {
  "kernelspec": {
   "display_name": "Python 3",
   "language": "python",
   "name": "python3"
  },
  "language_info": {
   "codemirror_mode": {
    "name": "ipython",
    "version": 3
   },
   "file_extension": ".py",
   "mimetype": "text/x-python",
   "name": "python",
   "nbconvert_exporter": "python",
   "pygments_lexer": "ipython3",
   "version": "3.7.8"
  }
 },
 "nbformat": 4,
 "nbformat_minor": 4
}
